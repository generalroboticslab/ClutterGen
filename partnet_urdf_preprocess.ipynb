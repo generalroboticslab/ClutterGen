{
 "cells": [
  {
   "cell_type": "code",
   "execution_count": 25,
   "metadata": {},
   "outputs": [
    {
     "ename": "FileNotFoundError",
     "evalue": "[Errno 2] No such file or directory: 'assets/objects/partnet-mobility-v0/dataset'",
     "output_type": "error",
     "traceback": [
      "\u001b[0;31m---------------------------------------------------------------------------\u001b[0m",
      "\u001b[0;31mFileNotFoundError\u001b[0m                         Traceback (most recent call last)",
      "\u001b[1;32m/home/grl/Working/projects/RoboSensai/partnet_urdf_preprocess.ipynb Cell 1\u001b[0m line \u001b[0;36m<cell line: 17>\u001b[0;34m()\u001b[0m\n\u001b[1;32m     <a href='vscode-notebook-cell:/home/grl/Working/projects/RoboSensai/partnet_urdf_preprocess.ipynb#W0sZmlsZQ%3D%3D?line=13'>14</a>\u001b[0m     \u001b[39mwith\u001b[39;00m \u001b[39mopen\u001b[39m(\u001b[39mf\u001b[39m\u001b[39m'\u001b[39m\u001b[39m{\u001b[39;00mtarget_folder_path\u001b[39m}\u001b[39;00m\u001b[39m/obj_categories.json\u001b[39m\u001b[39m'\u001b[39m, \u001b[39m'\u001b[39m\u001b[39mr\u001b[39m\u001b[39m'\u001b[39m) \u001b[39mas\u001b[39;00m json_file:\n\u001b[1;32m     <a href='vscode-notebook-cell:/home/grl/Working/projects/RoboSensai/partnet_urdf_preprocess.ipynb#W0sZmlsZQ%3D%3D?line=14'>15</a>\u001b[0m         obj_categories \u001b[39m=\u001b[39m json\u001b[39m.\u001b[39mload(json_file)\n\u001b[0;32m---> <a href='vscode-notebook-cell:/home/grl/Working/projects/RoboSensai/partnet_urdf_preprocess.ipynb#W0sZmlsZQ%3D%3D?line=16'>17</a>\u001b[0m \u001b[39mfor\u001b[39;00m name \u001b[39min\u001b[39;00m os\u001b[39m.\u001b[39;49mlistdir(partnet_mobility):\n\u001b[1;32m     <a href='vscode-notebook-cell:/home/grl/Working/projects/RoboSensai/partnet_urdf_preprocess.ipynb#W0sZmlsZQ%3D%3D?line=17'>18</a>\u001b[0m     origin_folder_path \u001b[39m=\u001b[39m os\u001b[39m.\u001b[39mpath\u001b[39m.\u001b[39mjoin(partnet_mobility, name)\n\u001b[1;32m     <a href='vscode-notebook-cell:/home/grl/Working/projects/RoboSensai/partnet_urdf_preprocess.ipynb#W0sZmlsZQ%3D%3D?line=18'>19</a>\u001b[0m     \u001b[39mif\u001b[39;00m os\u001b[39m.\u001b[39mpath\u001b[39m.\u001b[39misdir(origin_folder_path):\n",
      "\u001b[0;31mFileNotFoundError\u001b[0m: [Errno 2] No such file or directory: 'assets/objects/partnet-mobility-v0/dataset'"
     ]
    }
   ],
   "source": [
    "import os\n",
    "import json\n",
    "import shutil\n",
    "import xml.etree.ElementTree as ET\n",
    "import os\n",
    "\n",
    "# Deal with the partnet mobility dataset\n",
    "# Provide the path to the .json file and the folder you want to rename\n",
    "partnet_mobility = 'assets/objects/partnet-mobility-v0/dataset'\n",
    "target_folder_path = 'assets/objects'\n",
    "if not os.path.exists(f\"{target_folder_path}/obj_categories.json\"):\n",
    "    obj_categories = {}\n",
    "else:\n",
    "    with open(f'{target_folder_path}/obj_categories.json', 'r') as json_file:\n",
    "        obj_categories = json.load(json_file)\n",
    "\n",
    "for name in os.listdir(partnet_mobility):\n",
    "    origin_folder_path = os.path.join(partnet_mobility, name)\n",
    "    if os.path.isdir(origin_folder_path):\n",
    "        json_file_path = os.path.join(origin_folder_path, 'result.json')\n",
    "        with open(json_file_path, 'r') as json_file:\n",
    "            data = json.load(json_file)\n",
    "        if isinstance(data, list):\n",
    "            data = data[0]\n",
    "        if 'name' in data:\n",
    "            obj_name = data['name']\n",
    "            if obj_name in obj_categories:\n",
    "                obj_categories[obj_name] += 1\n",
    "            else:\n",
    "                obj_categories[obj_name] = 0\n",
    "\n",
    "            new_folder_path = os.path.join(target_folder_path, obj_name, str(obj_categories[obj_name]))\n",
    "            os.makedirs(new_folder_path, exist_ok=True)\n",
    "            os.rename(origin_folder_path, new_folder_path)\n",
    "            print(f\"Folder renamed to: {new_folder_path}\")\n",
    "        else:\n",
    "            raise Exception(f\"{json_file_path} has no name attributes.\")\n",
    "    else:\n",
    "        raise Exception(f\"{origin_folder_path} Folder not found.\")\n",
    "    \n",
    "if not os.path.exists(f\"{target_folder_path}/obj_categories.json\"):\n",
    "    with open(f'{target_folder_path}/obj_categories.json', 'w') as json_file:\n",
    "        json.dump(obj_categories, json_file, indent=4)\n",
    "else:\n",
    "    print(f\"File {target_folder_path}/obj_categories.json already exists.\")\n",
    "\n",
    "if os.path.exists(partnet_mobility):\n",
    "    shutil.rmtree(os.path.dirname(partnet_mobility))"
   ]
  },
  {
   "cell_type": "code",
   "execution_count": 24,
   "metadata": {},
   "outputs": [],
   "source": [
    "# Deal with the YCB dataset\n",
    "ycb_dataset_folder = 'assets/objects/partnet_mobility_folder'\n",
    "target_folder_path = 'assets/objects'\n",
    "obj_categories = {}\n"
   ]
  },
  {
   "cell_type": "code",
   "execution_count": 34,
   "metadata": {},
   "outputs": [],
   "source": [
    "# Zip all objects folder and upload or download"
   ]
  },
  {
   "cell_type": "code",
   "execution_count": null,
   "metadata": {},
   "outputs": [],
   "source": [
    "# Need to walk though all the folders to update obj_categories.json"
   ]
  },
  {
   "cell_type": "markdown",
   "metadata": {},
   "source": [
    " ```Given obj_name, urdf, mesh folder, it should create an object folder into the object dataset and update the .json file```"
   ]
  },
  {
   "cell_type": "code",
   "execution_count": 35,
   "metadata": {},
   "outputs": [],
   "source": [
    "def update_urdf_file_mesh_path(file_path):\n",
    "    tree = ET.parse(file_path)\n",
    "    root = tree.getroot()\n",
    "\n",
    "    # Define the new file paths\n",
    "    new_collision_mesh_path = \"textured_objs/collision.obj\"\n",
    "    new_textured_mesh_path = \"textured_objs/textured.obj\"\n",
    "\n",
    "    # Update collision mesh file paths\n",
    "    for collision in root.findall(\".//collision\"):\n",
    "        for geometry in collision.findall(\".//geometry\"):\n",
    "            for mesh in geometry.findall(\".//mesh\"):\n",
    "                original_file_path = mesh.attrib[\"filename\"]\n",
    "                mesh.attrib[\"filename\"] = new_collision_mesh_path\n",
    "\n",
    "    # Update textured mesh file paths\n",
    "    for visual in root.findall(\".//visual\"):\n",
    "        for geometry in visual.findall(\".//geometry\"):\n",
    "            for mesh in geometry.findall(\".//mesh\"):\n",
    "                original_file_path = mesh.attrib[\"filename\"]\n",
    "                mesh.attrib[\"filename\"] = new_textured_mesh_path\n",
    "\n",
    "    # Save the modified URDF file\n",
    "    tree.write(file_path, encoding='utf-8', xml_declaration=True)\n",
    "\n",
    "def create_target_folder(obj_name, urdf_file_path, mesh_folder_path, pool_folder_path):\n",
    "    target_folder_path = os.path.join(pool_folder_path, obj_name)\n",
    "    if os.path.exists(target_folder_path):\n",
    "        key = input(f\"Folder {target_folder_path} already exists. \\\n",
    "                    Press d to delete whole folder, Press c to continue adding files, Press q to skip\")\n",
    "        if key == 'd':\n",
    "            shutil.rmtree(target_folder_path)\n",
    "        elif key == 'c':\n",
    "            pass\n",
    "        elif key == 'q':\n",
    "            return\n",
    "        else:\n",
    "            raise Exception(\"Please rename the folder and try again.\")\n",
    "\n",
    "    os.makedirs(target_folder_path, exist_ok=True)\n",
    "    obj_index = len(os.listdir(target_folder_path)) # Start from 0\n",
    "\n",
    "    os.makedirs(os.path.join(target_folder_path, str(obj_index)), exist_ok=True)\n",
    "    shutil.copyfile(urdf_file_path, os.path.join(target_folder_path, str(obj_index), 'mobility.urdf'))\n",
    "    update_urdf_file_mesh_path(os.path.join(target_folder_path, str(obj_index), 'mobility.urdf'))\n",
    "    if os.path.exists(mesh_folder_path):\n",
    "        shutil.copytree(mesh_folder_path, os.path.join(target_folder_path, str(obj_index), 'textured_objs'))\n",
    "    else:\n",
    "        print(f\"Mesh folder {mesh_folder_path} not found.\")\n"
   ]
  },
  {
   "cell_type": "code",
   "execution_count": 36,
   "metadata": {},
   "outputs": [
    {
     "name": "stdout",
     "output_type": "stream",
     "text": [
      "Mesh folder assets/objects/ycb_objects_origin_at_center_vhacd/meshes/bin not found.\n"
     ]
    }
   ],
   "source": [
    "import glob\n",
    "\n",
    "obj_name = 'test'\n",
    "urdf_folder_path = \"\"\n",
    "mesh_folder_path = \"\"\n",
    "pool_folder_path = 'assets/objects/ycb_objects_origin_at_center_vhacd'\n",
    "urdf_files = glob.glob(os.path.join(pool_folder_path, \"urdfs\",  \"*.urdf\"))\n",
    "obj_names = [os.path.basename(urdf_file).split(sep=\".\")[0] for urdf_file in urdf_files]\n",
    "\n",
    "for obj_name in obj_names:\n",
    "    urdf_file_path = os.path.join(pool_folder_path, \"urdfs\", f\"{obj_name}.urdf\")\n",
    "    mesh_folder_path = os.path.join(pool_folder_path, \"meshes\", obj_name)\n",
    "    create_target_folder(obj_name, urdf_file_path, mesh_folder_path, pool_folder_path)\n"
   ]
  },
  {
   "cell_type": "code",
   "execution_count": null,
   "metadata": {},
   "outputs": [],
   "source": []
  }
 ],
 "metadata": {
  "kernelspec": {
   "display_name": "venv",
   "language": "python",
   "name": "python3"
  },
  "language_info": {
   "codemirror_mode": {
    "name": "ipython",
    "version": 3
   },
   "file_extension": ".py",
   "mimetype": "text/x-python",
   "name": "python",
   "nbconvert_exporter": "python",
   "pygments_lexer": "ipython3",
   "version": "3.8.18"
  }
 },
 "nbformat": 4,
 "nbformat_minor": 2
}
