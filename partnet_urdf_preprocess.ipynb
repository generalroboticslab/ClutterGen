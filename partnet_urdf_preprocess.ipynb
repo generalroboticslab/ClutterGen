{
 "cells": [
  {
   "cell_type": "code",
   "execution_count": 33,
   "metadata": {},
   "outputs": [
    {
     "name": "stdout",
     "output_type": "stream",
     "text": [
      "File assets/objects/obj_categories.json already exists.\n"
     ]
    }
   ],
   "source": [
    "import os\n",
    "import json\n",
    "import shutil\n",
    "\n",
    "# Deal with the partnet mobility dataset\n",
    "# Provide the path to the .json file and the folder you want to rename\n",
    "partnet_mobility = 'assets/objects/partnet-mobility-v0/dataset'\n",
    "target_folder_path = 'assets/objects'\n",
    "if not os.path.exists(f\"{target_folder_path}/obj_categories.json\"):\n",
    "    obj_categories = {}\n",
    "else:\n",
    "    with open(f'{target_folder_path}/obj_categories.json', 'r') as json_file:\n",
    "        obj_categories = json.load(json_file)\n",
    "\n",
    "for name in os.listdir(partnet_mobility):\n",
    "    origin_folder_path = os.path.join(partnet_mobility, name)\n",
    "    if os.path.isdir(origin_folder_path):\n",
    "        json_file_path = os.path.join(origin_folder_path, 'result.json')\n",
    "        with open(json_file_path, 'r') as json_file:\n",
    "            data = json.load(json_file)\n",
    "        if isinstance(data, list):\n",
    "            data = data[0]\n",
    "        if 'name' in data:\n",
    "            obj_name = data['name']\n",
    "            if obj_name in obj_categories:\n",
    "                obj_categories[obj_name] += 1\n",
    "            else:\n",
    "                obj_categories[obj_name] = 0\n",
    "\n",
    "            new_folder_path = os.path.join(target_folder_path, obj_name, str(obj_categories[obj_name]))\n",
    "            os.makedirs(new_folder_path, exist_ok=True)\n",
    "            os.rename(origin_folder_path, new_folder_path)\n",
    "            print(f\"Folder renamed to: {new_folder_path}\")\n",
    "        else:\n",
    "            raise Exception(f\"{json_file_path} has no name attributes.\")\n",
    "    else:\n",
    "        raise Exception(f\"{origin_folder_path} Folder not found.\")\n",
    "    \n",
    "if not os.path.exists(f\"{target_folder_path}/obj_categories.json\"):\n",
    "    with open(f'{target_folder_path}/obj_categories.json', 'w') as json_file:\n",
    "        json.dump(obj_categories, json_file, indent=4)\n",
    "else:\n",
    "    print(f\"File {target_folder_path}/obj_categories.json already exists.\")\n",
    "\n",
    "if os.path.exists(partnet_mobility):\n",
    "    shutil.rmtree(os.path.dirname(partnet_mobility))"
   ]
  },
  {
   "cell_type": "code",
   "execution_count": 24,
   "metadata": {},
   "outputs": [],
   "source": [
    "# Deal with the YCB dataset\n",
    "ycb_dataset_folder = 'assets/objects/partnet_mobility_folder'\n",
    "target_folder_path = 'assets/objects'\n",
    "obj_categories = {}\n"
   ]
  },
  {
   "cell_type": "code",
   "execution_count": 34,
   "metadata": {},
   "outputs": [],
   "source": [
    "# Zip all objects folder and upload or download"
   ]
  },
  {
   "cell_type": "code",
   "execution_count": null,
   "metadata": {},
   "outputs": [],
   "source": [
    "# Need to walk though all the folders to update obj_categories.json"
   ]
  }
 ],
 "metadata": {
  "kernelspec": {
   "display_name": "venv",
   "language": "python",
   "name": "python3"
  },
  "language_info": {
   "codemirror_mode": {
    "name": "ipython",
    "version": 3
   },
   "file_extension": ".py",
   "mimetype": "text/x-python",
   "name": "python",
   "nbconvert_exporter": "python",
   "pygments_lexer": "ipython3",
   "version": "3.8.18"
  }
 },
 "nbformat": 4,
 "nbformat_minor": 2
}
